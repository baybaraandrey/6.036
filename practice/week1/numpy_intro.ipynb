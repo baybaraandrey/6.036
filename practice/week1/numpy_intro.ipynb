{
 "cells": [
  {
   "cell_type": "code",
   "execution_count": 1,
   "id": "0df69730",
   "metadata": {},
   "outputs": [
    {
     "name": "stdout",
     "output_type": "stream",
     "text": [
      "[[1. 1. 1.]\n",
      " [1. 1. 1.]]\n"
     ]
    }
   ],
   "source": [
    "import numpy as np\n",
    "\n",
    "# 2.1\n",
    "A = np.ones((2, 3))\n",
    "print(A)"
   ]
  },
  {
   "cell_type": "code",
   "execution_count": 2,
   "id": "c7908857",
   "metadata": {},
   "outputs": [
    {
     "data": {
      "text/plain": [
       "(array([[1., 1.],\n",
       "        [1., 1.],\n",
       "        [1., 1.]]),\n",
       " array([[1., 1.],\n",
       "        [1., 1.],\n",
       "        [1., 1.]]))"
      ]
     },
     "execution_count": 2,
     "metadata": {},
     "output_type": "execute_result"
    }
   ],
   "source": [
    "# 2.2\n",
    "def tp(A):\n",
    "    return np.transpose(A), A.T\n",
    "\n",
    "tp(np.ones((2, 3)))"
   ]
  },
  {
   "cell_type": "code",
   "execution_count": 5,
   "id": "f4ae76ca",
   "metadata": {},
   "outputs": [
    {
     "data": {
      "text/plain": [
       "(array([[1],\n",
       "        [0],\n",
       "        [0],\n",
       "        [4]]),\n",
       " (4, 1))"
      ]
     },
     "execution_count": 5,
     "metadata": {},
     "output_type": "execute_result"
    }
   ],
   "source": [
    "# 2.3a\n",
    "x, y = np.array([[1], [2], [3], [4]]), np.array([[1], [0], [0], [1]])\n",
    "(x * y), (x * y).shape"
   ]
  },
  {
   "cell_type": "code",
   "execution_count": 6,
   "id": "7e49e75f",
   "metadata": {},
   "outputs": [],
   "source": [
    "# 2.3b\n",
    "# np.dot(x, y) -> raises Exception\n"
   ]
  },
  {
   "cell_type": "code",
   "execution_count": 8,
   "id": "0d57fb81",
   "metadata": {},
   "outputs": [
    {
     "data": {
      "text/plain": [
       "(1, 1)"
      ]
     },
     "execution_count": 8,
     "metadata": {},
     "output_type": "execute_result"
    }
   ],
   "source": [
    "# 2.4d\n",
    "c = np.ones((4, 1))\n",
    "np.dot(np.transpose(c), c).shape"
   ]
  },
  {
   "cell_type": "code",
   "execution_count": 11,
   "id": "e82a1345",
   "metadata": {},
   "outputs": [
    {
     "data": {
      "text/plain": [
       "(3,)"
      ]
     },
     "execution_count": 11,
     "metadata": {},
     "output_type": "execute_result"
    }
   ],
   "source": [
    "# 2.3f\n",
    "D = np.array([1, 2, 3])\n",
    "D.shape"
   ]
  },
  {
   "cell_type": "code",
   "execution_count": 13,
   "id": "dccfde12",
   "metadata": {},
   "outputs": [
    {
     "data": {
      "text/plain": [
       "array([2, 3, 4, 5])"
      ]
     },
     "execution_count": 13,
     "metadata": {},
     "output_type": "execute_result"
    }
   ],
   "source": [
    "# 2.3g \n",
    "D = np.array([[1, 2], [1, 3], [1, 4], [1, 5]])\n",
    "D[:, 1]"
   ]
  },
  {
   "cell_type": "code",
   "execution_count": 23,
   "id": "cfe0fa28",
   "metadata": {},
   "outputs": [
    {
     "data": {
      "text/plain": [
       "((4, 1),\n",
       " array([[2],\n",
       "        [3],\n",
       "        [4],\n",
       "        [5]]))"
      ]
     },
     "execution_count": 23,
     "metadata": {},
     "output_type": "execute_result"
    }
   ],
   "source": [
    "# 2.3h\n",
    "D = np.array([[1, 2], [1, 3], [1, 4], [1, 5]])\n",
    "D[:, 1:2].shape, D[:, 1:2]"
   ]
  },
  {
   "cell_type": "code",
   "execution_count": 24,
   "id": "b58b17ed",
   "metadata": {},
   "outputs": [
    {
     "data": {
      "text/plain": [
       "array([[1, 2, 3]])"
      ]
     },
     "execution_count": 24,
     "metadata": {},
     "output_type": "execute_result"
    }
   ],
   "source": [
    "# 2.4 row vector\n",
    "def rv(r):\n",
    "    return np.array([r])\n",
    "\n",
    "rv([1, 2, 3])"
   ]
  },
  {
   "cell_type": "code",
   "execution_count": 25,
   "id": "cd24c641",
   "metadata": {},
   "outputs": [
    {
     "data": {
      "text/plain": [
       "array([[1],\n",
       "       [2],\n",
       "       [3],\n",
       "       [4]])"
      ]
     },
     "execution_count": 25,
     "metadata": {},
     "output_type": "execute_result"
    }
   ],
   "source": [
    "# 2.5 column vector\n",
    "def cv(value_list):\n",
    "    return np.array([value_list]).T\n",
    "\n",
    "cv([1, 2, 3, 4])"
   ]
  },
  {
   "cell_type": "code",
   "execution_count": 31,
   "id": "950fcb07",
   "metadata": {},
   "outputs": [
    {
     "data": {
      "text/plain": [
       "5.477225575051661"
      ]
     },
     "execution_count": 31,
     "metadata": {},
     "output_type": "execute_result"
    }
   ],
   "source": [
    "# 2.6 vector length\n",
    "import numpy as np\n",
    "\n",
    "def length(col_v):\n",
    "    return np.math.sqrt(np.dot(col_v.T, col_v))\n",
    "\n",
    "length(np.array([[1, 2, 3, 4]]).T)\n"
   ]
  },
  {
   "cell_type": "code",
   "execution_count": 32,
   "id": "bc38cd86",
   "metadata": {},
   "outputs": [
    {
     "data": {
      "text/plain": [
       "array([[1.],\n",
       "       [0.],\n",
       "       [0.]])"
      ]
     },
     "execution_count": 32,
     "metadata": {},
     "output_type": "execute_result"
    }
   ],
   "source": [
    "# 2.7 normalize\n",
    "\n",
    "def normalize(col_v):\n",
    "    return col_v/length(col_v)\n",
    "\n",
    "normalize(np.array([[4, 0, 0]]).T)"
   ]
  },
  {
   "cell_type": "code",
   "execution_count": 36,
   "id": "9a66aa1b",
   "metadata": {},
   "outputs": [
    {
     "data": {
      "text/plain": [
       "array([[3],\n",
       "       [6],\n",
       "       [9]])"
      ]
     },
     "execution_count": 36,
     "metadata": {},
     "output_type": "execute_result"
    }
   ],
   "source": [
    "# 2.8 final colun 2-D array\n",
    "\n",
    "def index_final_column(A):\n",
    "    return np.array([A[:, -1]]).T\n",
    "\n",
    "index_final_column(np.array([\n",
    "    [1, 2, 3],\n",
    "    [4, 5, 6],\n",
    "    [7, 8, 9],\n",
    "]))\n"
   ]
  },
  {
   "cell_type": "code",
   "execution_count": 37,
   "id": "6043f6cb",
   "metadata": {},
   "outputs": [],
   "source": [
    "# 2.9 representing data\n",
    "# 3 humans data\n",
    "'''\n",
    "weight,height\n",
    "150,5.8\n",
    "130,5.5\n",
    "120,5.3\n",
    "'''\n",
    "D = np.array([\n",
    "    [150, 5.8],\n",
    "    [130, 5.5],\n",
    "    [120, 5.3],\n",
    "])\n"
   ]
  },
  {
   "cell_type": "code",
   "execution_count": 38,
   "id": "f66a2b04",
   "metadata": {},
   "outputs": [
    {
     "data": {
      "text/plain": [
       "array([[155.8],\n",
       "       [135.5],\n",
       "       [125.3]])"
      ]
     },
     "execution_count": 38,
     "metadata": {},
     "output_type": "execute_result"
    }
   ],
   "source": [
    "# 2.10 matrix multiplication\n",
    "\n",
    "def transform(data):\n",
    "    return np.dot(data, np.array([[1, 1]]).T)\n",
    "\n",
    "transform(D)"
   ]
  },
  {
   "cell_type": "code",
   "execution_count": null,
   "id": "8d3e48e7",
   "metadata": {},
   "outputs": [],
   "source": []
  }
 ],
 "metadata": {
  "kernelspec": {
   "display_name": "Python 3 (ipykernel)",
   "language": "python",
   "name": "python3"
  },
  "language_info": {
   "codemirror_mode": {
    "name": "ipython",
    "version": 3
   },
   "file_extension": ".py",
   "mimetype": "text/x-python",
   "name": "python",
   "nbconvert_exporter": "python",
   "pygments_lexer": "ipython3",
   "version": "3.9.12"
  }
 },
 "nbformat": 4,
 "nbformat_minor": 5
}
