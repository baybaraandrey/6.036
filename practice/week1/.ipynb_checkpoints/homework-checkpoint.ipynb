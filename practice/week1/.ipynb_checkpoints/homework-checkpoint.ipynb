{
 "cells": [
  {
   "cell_type": "code",
   "execution_count": 1,
   "id": "7f3d51de",
   "metadata": {},
   "outputs": [],
   "source": [
    "import numpy as np\n",
    "\n"
   ]
  },
  {
   "cell_type": "code",
   "execution_count": 47,
   "id": "2cdafdab",
   "metadata": {},
   "outputs": [
    {
     "data": {
      "text/plain": [
       "(array([[1.41421356]]), array([[-1.41421356]]))"
      ]
     },
     "execution_count": 47,
     "metadata": {},
     "output_type": "execute_result"
    }
   ],
   "source": [
    "# 1.2 Code for distance\n",
    "\n",
    "def signed_dist(x, theta, theta_0):\n",
    "    return 1/np.linalg.norm(theta) * (np.dot(theta.T, x) + theta_0)\n",
    "\n",
    "\n",
    "theta = np.array([[1, 1]]).T\n",
    "theta_0 = 0\n",
    "x1 = np.array([[1, 1]]).T\n",
    "x2 = np.array([[-1, -1]]).T\n",
    "signed_dist(x1, theta, theta_0),signed_dist(x2, theta, theta_0) "
   ]
  },
  {
   "cell_type": "code",
   "execution_count": 18,
   "id": "8ccde0d6",
   "metadata": {},
   "outputs": [
    {
     "data": {
      "text/plain": [
       "(array([[1.]]), array([[-1.]]), array([[0.]]))"
      ]
     },
     "execution_count": 18,
     "metadata": {},
     "output_type": "execute_result"
    }
   ],
   "source": [
    "# code for side of hyperplane\n",
    "\n",
    "def positive(x, th, th0):\n",
    "    d = signed_dist(x, th, th0)\n",
    "    return np.sign(d)\n",
    "\n",
    "positive(x1, theta, theta_0), positive(x2, theta, theta_0), positive(np.array([[0, 0]]).T, theta, theta_0)"
   ]
  },
  {
   "cell_type": "code",
   "execution_count": 20,
   "id": "4e881328",
   "metadata": {},
   "outputs": [
    {
     "data": {
      "text/plain": [
       "array([[1., 1., 1., 0., 1.]])"
      ]
     },
     "execution_count": 20,
     "metadata": {},
     "output_type": "execute_result"
    }
   ],
   "source": [
    "# 1.4\n",
    "\n",
    "\n",
    "def rv(value_list):\n",
    "    return np.array([value_list]).T\n",
    "\n",
    "# 5*2 -> 2*5 : d*n -> n*d\n",
    "data = np.transpose(np.array([[1, 2], [1, 3], [2, 1], [1, -1], [2, -1]])) \n",
    "# 1*n -> n*1\n",
    "labels = rv([-1, -1, +1, +1, +1])\n",
    "\n",
    "A = positive(data, theta, theta_0)\n",
    "A"
   ]
  },
  {
   "cell_type": "code",
   "execution_count": 34,
   "id": "9108f7bd",
   "metadata": {},
   "outputs": [
    {
     "data": {
      "text/plain": [
       "(array([[False],\n",
       "        [False],\n",
       "        [ True],\n",
       "        [False],\n",
       "        [False]]),\n",
       " array([1]))"
      ]
     },
     "execution_count": 34,
     "metadata": {},
     "output_type": "execute_result"
    }
   ],
   "source": [
    "\"\"\"\n",
    "A should be a 1 by 5 array of boolean values, either True or False,\n",
    "indicating for each point in data and corresponding label in labels whether it is \n",
    "correctly classified by hyperplane th = [1, 1], th0 = -2 . \n",
    "That is, return True when the side of the hyperplane (specified by θ\\thetaθ, θ0\\theta_0θ0​)\n",
    "that the point is on agrees with the specified label.\n",
    "\"\"\"\n",
    "\n",
    "th = rv([2, 2])\n",
    "th0 = -2\n",
    "A = positive(data, th, th0).T == labels\n",
    "A, sum(A)"
   ]
  },
  {
   "cell_type": "code",
   "execution_count": 38,
   "id": "346c3ca2",
   "metadata": {},
   "outputs": [
    {
     "data": {
      "text/plain": [
       "1"
      ]
     },
     "execution_count": 38,
     "metadata": {},
     "output_type": "execute_result"
    }
   ],
   "source": [
    "np.sum(A).tolist()"
   ]
  },
  {
   "cell_type": "code",
   "execution_count": 39,
   "id": "02e38b51",
   "metadata": {},
   "outputs": [
    {
     "data": {
      "text/plain": [
       "(array([3, 3, 3]), array([3, 6]))"
      ]
     },
     "execution_count": 39,
     "metadata": {},
     "output_type": "execute_result"
    }
   ],
   "source": [
    "np.sum(np.array([[1,1,1],[2,2,2]]), axis=0), np.sum(np.array([[1,1,1],[2,2,2]]), axis=1)\n"
   ]
  },
  {
   "cell_type": "code",
   "execution_count": 79,
   "id": "a8fc3762",
   "metadata": {},
   "outputs": [
    {
     "name": "stdout",
     "output_type": "stream",
     "text": [
      "(array([[1],\n",
      "       [1]]), array([[1, 0, 2]]))\n"
     ]
    }
   ],
   "source": [
    "# 1.6 best separator\n",
    "\n",
    "\"\"\"\n",
    "data: a d by n array of floats (representing n data points in d dimensions)\n",
    "labels: a 1 by n array of elements in (+1, -1), representing target labels\n",
    "ths: a d by m array of floats representing mmm candidate θ\\thetaθ\\s (each θ\\thetaθ has dimension ddd by 1)\n",
    "th0s: a 1 by m array of the corresponding mmm candidate θ0\\theta_0θ0s.\n",
    "\"\"\"\n",
    "\n",
    "data = np.array([\n",
    "    [1, 2],\n",
    "    [1, 1],\n",
    "    [0, 1],\n",
    "]) # d*n -> 3*2 n datapoints\n",
    "\n",
    "labels = np.array([[1,-1, 1]]) # 1*n -> 1*3\n",
    "ths = np.array([\n",
    "    [1, 2, 4, 5],\n",
    "    [1, 3, -1, 2],\n",
    "]) # d*m -> 2*4\n",
    "th0s = np.array([[1, 0, 2]])\n",
    "\n",
    "\n",
    "def score(data, labels, ths, th0s):\n",
    "    r = positive(data, ths, th0s) == labels\n",
    "    i = np.argmax(np.sum(r.T, axis=0))\n",
    "    return ths[:, i:i+1], np.array([th0s[i]])\n",
    "\n",
    "\n",
    "def best_separator(data, labels, ths, th0s):\n",
    "    return score(data, labels, ths, th0s.T)\n",
    "\n",
    "print(score(data.T, labels, ths, th0s))\n"
   ]
  },
  {
   "cell_type": "code",
   "execution_count": 46,
   "id": "f5b3f1ca",
   "metadata": {},
   "outputs": [
    {
     "data": {
      "text/plain": [
       "array([[1],\n",
       "       [1]])"
      ]
     },
     "execution_count": 46,
     "metadata": {},
     "output_type": "execute_result"
    }
   ],
   "source": [
    "theta"
   ]
  },
  {
   "cell_type": "code",
   "execution_count": 60,
   "id": "734f9e1e",
   "metadata": {},
   "outputs": [],
   "source": [
    "r = np.array([\n",
    "    [False, False, True, True, True],\n",
    "    [False, False, True, True, True],\n",
    "    [False, False, True, True, True],\n",
    "    [False, False, False, False, False],\n",
    "    [True, True, False, True, True], \n",
    "    [True, True, True, False, True],\n",
    "    [True, True, False, True, True],\n",
    "    [True, True, False, True, True],\n",
    "    [True, True, False, True, True],\n",
    "    [True, True, True, True, True]])"
   ]
  },
  {
   "cell_type": "code",
   "execution_count": 64,
   "id": "a1a48458",
   "metadata": {},
   "outputs": [
    {
     "data": {
      "text/plain": [
       "9"
      ]
     },
     "execution_count": 64,
     "metadata": {},
     "output_type": "execute_result"
    }
   ],
   "source": [
    "i = np.argmax(np.sum(r.T, axis=0))\n",
    "[\n",
    "    [\n",
    "        [0.32548657],\n",
    "        [-0.83807759]\n",
    "    ],\n",
    "    [\n",
    "        [0.74308104]\n",
    "    ]\n",
    "]\n",
    "[\n",
    "    [\n",
    "        [0.32548657, -0.83807759]\n",
    "    ],\n",
    "    [\n",
    "        [0.74308104]\n",
    "    ]\n",
    "]"
   ]
  },
  {
   "cell_type": "code",
   "execution_count": 77,
   "id": "95a84bd6",
   "metadata": {},
   "outputs": [
    {
     "data": {
      "text/plain": [
       "array([[2],\n",
       "       [4]])"
      ]
     },
     "execution_count": 77,
     "metadata": {},
     "output_type": "execute_result"
    }
   ],
   "source": [
    "k = np.array([\n",
    "    [1, 2],\n",
    "    [3, 4],\n",
    "])\n",
    "\n",
    "\n",
    "np.array(k[:, 1:2])"
   ]
  },
  {
   "cell_type": "code",
   "execution_count": null,
   "id": "562de54a",
   "metadata": {},
   "outputs": [],
   "source": []
  }
 ],
 "metadata": {
  "kernelspec": {
   "display_name": "Python 3 (ipykernel)",
   "language": "python",
   "name": "python3"
  },
  "language_info": {
   "codemirror_mode": {
    "name": "ipython",
    "version": 3
   },
   "file_extension": ".py",
   "mimetype": "text/x-python",
   "name": "python",
   "nbconvert_exporter": "python",
   "pygments_lexer": "ipython3",
   "version": "3.9.12"
  }
 },
 "nbformat": 4,
 "nbformat_minor": 5
}
