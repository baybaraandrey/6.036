{
 "cells": [
  {
   "cell_type": "code",
   "execution_count": 1,
   "id": "427631b8",
   "metadata": {},
   "outputs": [],
   "source": [
    "import sys\n",
    "sys.path.append('../..')\n",
    "\n",
    "from practice import utils\n",
    "\n",
    "import numpy as np\n",
    "import matplotlib.pyplot as plt\n"
   ]
  },
  {
   "cell_type": "code",
   "execution_count": null,
   "id": "e37a9692",
   "metadata": {},
   "outputs": [],
   "source": [
    "def perceptron_through_the_origin(x: np.array, y: np.array, t: int) -> tuple[np.array]:\n",
    "    \"\"\"\n",
    "    Perceptron learning algorithm.\n",
    "    returns th.\n",
    "    \"\"\"\n",
    "    th = utils.rv([0, 0]) # 2*1\n",
    "    k = 0\n",
    "    for i in range(t):\n",
    "        converged = True\n",
    "        for j in range(x.shape[1]):\n",
    "            yj = y[j]\n",
    "            xj = x[:, j:j+1]\n",
    "            r = yj * np.dot(th.T, xj)  \n",
    "            if r <= 0:\n",
    "                k+=1\n",
    "                th = th + yj * xj\n",
    "                converged = False\n",
    "                print(th)\n",
    "        if converged:\n",
    "            return th, k, i+1\n",
    "    return th, k, t\n"
   ]
  },
  {
   "cell_type": "code",
   "execution_count": null,
   "id": "a36e7ff5",
   "metadata": {},
   "outputs": [],
   "source": [
    "def print_alg_info(th, k, i):\n",
    "    print('th:', th)\n",
    "    print('mistakes', k)\n",
    "    print('iterations:', i)\n",
    "\n",
    "x = np.array([\n",
    "    [1, 0, -1.5],\n",
    "    [-1, 1, -1],\n",
    "])\n",
    "y = np.array([1, -1, 1])\n",
    "\n",
    "th, k, i = perceptron_through_the_origin(x, y, 100)\n",
    "print_alg_info(th, k, i)"
   ]
  },
  {
   "cell_type": "markdown",
   "id": "b0c56739",
   "metadata": {},
   "source": [
    "1.1c) How many mistakes does the algorithm make if it starts with data point x(2)x^{(2)}x(2) (and then does x(3)x^{(3)}x(3) and x(1)x^{(1)}x(1))? "
   ]
  },
  {
   "cell_type": "code",
   "execution_count": null,
   "id": "92226bc6",
   "metadata": {},
   "outputs": [],
   "source": [
    "x = np.array([\n",
    "    [0, -1.5, 1],\n",
    "    [1,  -1, -1],\n",
    "])\n",
    "y = np.array([-1, 1, 1])\n",
    "\n",
    "th, k, i = perceptron_through_the_origin(x, y, 100)\n",
    "print_alg_info(th, k, i)\n"
   ]
  },
  {
   "cell_type": "markdown",
   "id": "cc331f1a",
   "metadata": {},
   "source": [
    "1.1d) Again, if it starts with data point x(2)x^{(2)}x(2) (and then does x(3)x^{(3)}x(3) and x(1)x^{(1)}x(1)), which plot(s) correspond to the progression of the hyperplane as the algorithm cycles? Ignore the initial 0 weights. "
   ]
  },
  {
   "cell_type": "markdown",
   "id": "5856a51b",
   "metadata": {},
   "source": [
    "## 1.2) Take 2"
   ]
  },
  {
   "cell_type": "code",
   "execution_count": null,
   "id": "8498e79e",
   "metadata": {},
   "outputs": [],
   "source": [
    "\n",
    "x = np.array([\n",
    "    [1, 0, -10],\n",
    "    [-1, 1, -1],\n",
    "])\n",
    "y = np.array([1, -1, 1])\n",
    "\n",
    "\n",
    "th, k, i = perceptron_through_the_origin(x, y, 100)\n",
    "print_alg_info(th, k, i)"
   ]
  },
  {
   "cell_type": "code",
   "execution_count": null,
   "id": "b6e64b9f",
   "metadata": {},
   "outputs": [],
   "source": [
    "x = np.array([\n",
    "    [0, 1, -10],\n",
    "    [1, -1, -1],\n",
    "])\n",
    "y = np.array([-1, 1, 1])\n",
    "\n",
    "\n",
    "th, k, i = perceptron_through_the_origin(x, y, 100)\n",
    "print_alg_info(th, k, i)"
   ]
  },
  {
   "cell_type": "code",
   "execution_count": null,
   "id": "8bb1e91b",
   "metadata": {},
   "outputs": [],
   "source": [
    "\n",
    "\n",
    "\n",
    "def perceptron_through_the_origin_modified(x: np.array, y: np.array, t: int) -> tuple[np.array]:\n",
    "    \"\"\"\n",
    "    Perceptron learning algorithm.\n",
    "    returns th.\n",
    "    \"\"\"\n",
    "    th = utils.rv([1000, -1000]) # 2*1\n",
    "    k = 0\n",
    "    for i in range(t):\n",
    "        converged = True\n",
    "        for j in range(x.shape[1]):\n",
    "            yj = y[j]\n",
    "            xj = x[:, j:j+1]\n",
    "            r = yj * np.dot(th.T, xj)  \n",
    "            if r <= 0:\n",
    "                k+=1\n",
    "                th = th + yj * xj\n",
    "                converged = False\n",
    "                print(th)\n",
    "        if converged:\n",
    "            return th, k, i+1\n",
    "    return th, k, t\n"
   ]
  },
  {
   "cell_type": "code",
   "execution_count": null,
   "id": "30578066",
   "metadata": {},
   "outputs": [],
   "source": [
    "x = np.array([\n",
    "    [1, 0, -1.5],\n",
    "    [-1, 1, -1],\n",
    "])\n",
    "y = np.array([1, -1, 1])\n",
    "\n",
    "\n",
    "th, k, i = perceptron_through_the_origin_modified(x, y, 100)\n",
    "print_alg_info(th, k, i)"
   ]
  },
  {
   "cell_type": "markdown",
   "id": "d9622902",
   "metadata": {},
   "source": [
    "# 3) Dual View"
   ]
  },
  {
   "cell_type": "code",
   "execution_count": null,
   "id": "b57e67e1",
   "metadata": {},
   "outputs": [],
   "source": [
    "x = np.array([\n",
    "    [-3, 2],\n",
    "    [-1, 1],\n",
    "    [-1, -1],\n",
    "    [2, 2],\n",
    "    [1, -1],\n",
    "]).T\n",
    "y = np.array([1, -1, -1, -1,-1])\n",
    "\n",
    "\n",
    "def perceptron_through_the_origin(x: np.array, y: np.array, t: int, th=None) -> tuple[np.array]:\n",
    "    \"\"\"\n",
    "    Perceptron learning algorithm.\n",
    "    returns th.\n",
    "    \"\"\"\n",
    "    if th is None:\n",
    "        th = utils.rv([0, 0]) # 2*1\n",
    "    k = 0\n",
    "    for i in range(t):\n",
    "        converged = True\n",
    "        for j in range(x.shape[1]):\n",
    "            yj = y[j]\n",
    "            xj = x[:, j:j+1]\n",
    "            r = yj * np.dot(th.T, xj)  \n",
    "            if r <= 0:\n",
    "                k+=1\n",
    "                th = th + yj * xj\n",
    "                converged = False\n",
    "                print(th)\n",
    "        if converged:\n",
    "            return th, k, i+1\n",
    "    return th, k, t\n",
    "\n",
    "\n",
    "def perceptron(x: np.array, y: np.array, t: int) -> tuple[np.array]:\n",
    "    \"\"\"\n",
    "    Perceptron learning algorithm.\n",
    "    returns tuple of th and th0.\n",
    "    \"\"\"\n",
    "    th = utils.rv([0, 0]) # 2*1\n",
    "    th0 = 0 # 1*1\n",
    "    k = 0\n",
    "    for i in range(t):\n",
    "        converged =True\n",
    "        for j in range(x.shape[1]):\n",
    "            yj = y[j]\n",
    "            xj = x[:, j:j+1]\n",
    "            r = yj * (np.dot(th.T, xj) + th0)  \n",
    "            if r <= 0:\n",
    "                k+=1\n",
    "                th = th + yj * xj\n",
    "                th0 = th0 + yj\n",
    "                converged = False\n",
    "        if converged:\n",
    "            return th, th0, k, i+1\n",
    "    return th, th0, k, t\n",
    "\n",
    "\n",
    "\n",
    "\n",
    "th, th0, k, i = perceptron(x, y, 100)\n",
    "print_alg_info((th, th0), k, i)"
   ]
  },
  {
   "cell_type": "markdown",
   "id": "134afb7b",
   "metadata": {},
   "source": [
    "# 4) Decision Boundaries"
   ]
  },
  {
   "cell_type": "markdown",
   "id": "db679378",
   "metadata": {},
   "source": [
    "## 4.1) AND"
   ]
  },
  {
   "cell_type": "code",
   "execution_count": null,
   "id": "6b2693e3",
   "metadata": {},
   "outputs": [],
   "source": [
    "x = np.array([\n",
    "    [0, 0, 0],\n",
    "    [1, 0, 0],\n",
    "    [0, 1, 0],\n",
    "    [0, 0, 1],\n",
    "    [1, 1, 0],\n",
    "    [1, 0, 1],\n",
    "    [0, 1, 1],\n",
    "    [1, 1, 1],\n",
    "]).T \n",
    "y = np.array([-1, -1, -1, -1, -1, -1, -1, 1])\n",
    "\n",
    "res = perceptron_through_the_origin(x, y, 200, utils.rv([0, 0, 0]))\n"
   ]
  },
  {
   "cell_type": "code",
   "execution_count": null,
   "id": "7cc51443",
   "metadata": {},
   "outputs": [],
   "source": [
    "print(res)"
   ]
  },
  {
   "cell_type": "code",
   "execution_count": null,
   "id": "1063366e",
   "metadata": {},
   "outputs": [],
   "source": [
    "def perceptron(x: np.array, y: np.array, t: int, tho=None) -> tuple[np.array]:\n",
    "    \"\"\"\n",
    "    Perceptron learning algorithm.\n",
    "    returns tuple of th and th0.\n",
    "    \"\"\"\n",
    "    \n",
    "    th = utils.rv([0, 0, 0]) # 3*1\n",
    "    if tho is not None:\n",
    "        th = tho\n",
    "\n",
    "    th0 = 0 # 1*1\n",
    "    k = 0\n",
    "    iterations = 0\n",
    "    for i in range(t):\n",
    "        iterations = i + 1\n",
    "        converged = True\n",
    "        for j in range(x.shape[1]):\n",
    "            yj = y[j]\n",
    "            xj = x[:, j:j+1]\n",
    "            r = yj * (np.dot(th.T, xj) + th0)  \n",
    "            # print('r', r, yj, xj)\n",
    "            if r <= 0:\n",
    "                converged = False\n",
    "                k+=1\n",
    "                th = th + yj * xj\n",
    "                th0 = th0 + yj\n",
    "        if converged:\n",
    "            print('errors', k)\n",
    "            print('iterations', iterations)            \n",
    "            return th, th0\n",
    "    print('errors', k)\n",
    "    print('iterations', iterations)\n",
    "    return th, th0\n",
    "\n",
    "\n",
    "res = perceptron(x, y, 200)\n",
    "print(res)"
   ]
  },
  {
   "cell_type": "markdown",
   "id": "a45f133e",
   "metadata": {},
   "source": [
    "## 4.2) Families"
   ]
  },
  {
   "cell_type": "markdown",
   "id": "9027c6ac",
   "metadata": {},
   "source": [
    "# 5) Separation"
   ]
  },
  {
   "cell_type": "code",
   "execution_count": null,
   "id": "09ef27e2",
   "metadata": {},
   "outputs": [],
   "source": [
    "x = np.array([\n",
    "    [1, -1],\n",
    "    [1, 1],\n",
    "    [2, -1],\n",
    "    [2, 1],\n",
    "]).T\n",
    "y = np.array([-1, 1, 1, -1])\n",
    "\n",
    "res = perceptron_through_the_origin(x, y, 200)\n",
    "print(res)\n"
   ]
  },
  {
   "cell_type": "code",
   "execution_count": null,
   "id": "abc51ecb",
   "metadata": {},
   "outputs": [],
   "source": [
    "x = np.array([\n",
    "    [1, -1],\n",
    "    [1, 1],\n",
    "    [2, -1],\n",
    "    [2, 1],\n",
    "]).T\n",
    "y = np.array([1, 1, -1, -1])\n",
    "\n",
    "res = perceptron(x, y, 200, utils.rv([0, 0]))\n",
    "print(res)\n"
   ]
  },
  {
   "cell_type": "code",
   "execution_count": null,
   "id": "3aa6688c",
   "metadata": {},
   "outputs": [],
   "source": [
    "x = np.array([\n",
    "    [1, -1, 1],\n",
    "    [1, 1, 1],\n",
    "    [2, -1, 1],\n",
    "    [2, 1, 1],\n",
    "]).T\n",
    "y = np.array([1, 1, -1, -1])\n",
    "\n",
    "res = perceptron_through_the_origin(x, y, 200, utils.rv([0, 0, 0]))\n",
    "print(res)"
   ]
  },
  {
   "cell_type": "code",
   "execution_count": null,
   "id": "dad2a26d",
   "metadata": {},
   "outputs": [],
   "source": []
  },
  {
   "cell_type": "code",
   "execution_count": 28,
   "id": "f8658298",
   "metadata": {},
   "outputs": [
    {
     "name": "stdout",
     "output_type": "stream",
     "text": [
      "(1, 4) (4,)\n"
     ]
    }
   ],
   "source": [
    "def perceptron(data, labels, params={}, hook=None):\n",
    "    \"\"\"\n",
    "    Perceptron learning algorithm.\n",
    "    returns tuple of th and th0.\n",
    "    \"\"\"\n",
    "    \n",
    "    d = len(data)\n",
    "    n = data.shape[1]\n",
    "    \n",
    "    t = params.get('T', 100)\n",
    "    th = np.zeros((len(data), 1)) # len(data)*1\n",
    "    th0 = np.zeros((1, 1)) # 1*1\n",
    "    \n",
    "    data = data.T\n",
    "    \n",
    "    k = 0\n",
    "    iterations = 0\n",
    "    for i in range(t):\n",
    "        iterations = i + 1\n",
    "        converged = True\n",
    "        if hook:\n",
    "            hook(th, th0)\n",
    "        for j in range(len(data)):\n",
    "            yj = labels[j]\n",
    "            xj = data[j].reshape((d, 1))\n",
    "            r = np.sum(yj * (np.dot(th.T, xj) + th0))  \n",
    "            print('r', r, yj, xj)\n",
    "            if r <= 0:\n",
    "                converged = False\n",
    "                k+=1\n",
    "                th = th + yj * xj\n",
    "                th0 = th0 + yj\n",
    "        if converged:\n",
    "            print('errors', k)\n",
    "            print('iterations', iterations)            \n",
    "            return th, th0\n",
    "    print('errors', k)\n",
    "    print('iterations1', iterations)\n",
    "\n",
    "    return th, th0\n",
    "\n",
    "y = np.array([1, 1, -1, -1])\n",
    "\n",
    "print(np.array([[1, 1, 1, 1]]).shape, y.shape)"
   ]
  },
  {
   "cell_type": "code",
   "execution_count": 12,
   "id": "655c50f2",
   "metadata": {},
   "outputs": [
    {
     "name": "stdout",
     "output_type": "stream",
     "text": [
      "r 0.0 1 [[ 1]\n",
      " [-1]\n",
      " [ 1]]\n",
      "r 2.0 1 [[1]\n",
      " [1]\n",
      " [1]]\n",
      "r -5.0 -1 [[ 2]\n",
      " [-1]\n",
      " [ 1]]\n",
      "r 2.0 -1 [[2]\n",
      " [1]\n",
      " [1]]\n",
      "r -1.0 1 [[ 1]\n",
      " [-1]\n",
      " [ 1]]\n",
      "r 1.0 1 [[1]\n",
      " [1]\n",
      " [1]]\n",
      "r -3.0 -1 [[ 2]\n",
      " [-1]\n",
      " [ 1]]\n",
      "r 4.0 -1 [[2]\n",
      " [1]\n",
      " [1]]\n",
      "r -2.0 1 [[ 1]\n",
      " [-1]\n",
      " [ 1]]\n",
      "r 0.0 1 [[1]\n",
      " [1]\n",
      " [1]]\n",
      "r -4.0 -1 [[ 2]\n",
      " [-1]\n",
      " [ 1]]\n",
      "r 1.0 -1 [[2]\n",
      " [1]\n",
      " [1]]\n",
      "r -1.0 1 [[ 1]\n",
      " [-1]\n",
      " [ 1]]\n",
      "r 3.0 1 [[1]\n",
      " [1]\n",
      " [1]]\n",
      "r -2.0 -1 [[ 2]\n",
      " [-1]\n",
      " [ 1]]\n",
      "r 3.0 -1 [[2]\n",
      " [1]\n",
      " [1]]\n",
      "r -2.0 1 [[ 1]\n",
      " [-1]\n",
      " [ 1]]\n",
      "r 2.0 1 [[1]\n",
      " [1]\n",
      " [1]]\n",
      "r 0.0 -1 [[ 2]\n",
      " [-1]\n",
      " [ 1]]\n",
      "r 5.0 -1 [[2]\n",
      " [1]\n",
      " [1]]\n",
      "r -3.0 1 [[ 1]\n",
      " [-1]\n",
      " [ 1]]\n",
      "r 1.0 1 [[1]\n",
      " [1]\n",
      " [1]]\n",
      "r 2.0 -1 [[ 2]\n",
      " [-1]\n",
      " [ 1]]\n",
      "r 2.0 -1 [[2]\n",
      " [1]\n",
      " [1]]\n",
      "r 1.0 1 [[ 1]\n",
      " [-1]\n",
      " [ 1]]\n",
      "r 1.0 1 [[1]\n",
      " [1]\n",
      " [1]]\n",
      "r 2.0 -1 [[ 2]\n",
      " [-1]\n",
      " [ 1]]\n",
      "r 2.0 -1 [[2]\n",
      " [1]\n",
      " [1]]\n",
      "errors 12\n",
      "iterations 7\n"
     ]
    },
    {
     "data": {
      "text/plain": [
       "(array([[-3.],\n",
       "        [ 0.],\n",
       "        [ 2.]]),\n",
       " array([[2.]]))"
      ]
     },
     "execution_count": 12,
     "metadata": {},
     "output_type": "execute_result"
    }
   ],
   "source": [
    "x = np.array([\n",
    "    [1, -1, 1],\n",
    "    [1, 1, 1],\n",
    "    [2, -1, 1],\n",
    "    [2, 1, 1],\n",
    "]).T\n",
    "y = np.array([1, 1, -1, -1])\n",
    "\n",
    "\n",
    "perceptron(x, y)"
   ]
  },
  {
   "cell_type": "code",
   "execution_count": null,
   "id": "f08a87b0",
   "metadata": {},
   "outputs": [],
   "source": []
  }
 ],
 "metadata": {
  "kernelspec": {
   "display_name": "Python 3 (ipykernel)",
   "language": "python",
   "name": "python3"
  },
  "language_info": {
   "codemirror_mode": {
    "name": "ipython",
    "version": 3
   },
   "file_extension": ".py",
   "mimetype": "text/x-python",
   "name": "python",
   "nbconvert_exporter": "python",
   "pygments_lexer": "ipython3",
   "version": "3.9.12"
  }
 },
 "nbformat": 4,
 "nbformat_minor": 5
}
