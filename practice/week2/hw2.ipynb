{
 "cells": [
  {
   "cell_type": "markdown",
   "id": "208de65b",
   "metadata": {},
   "source": [
    "# Evaluating learning methods"
   ]
  },
  {
   "cell_type": "markdown",
   "id": "e3403b7d",
   "metadata": {},
   "source": [
    "## 1) Evaluating a classifier"
   ]
  },
  {
   "cell_type": "code",
   "execution_count": 2,
   "id": "e232ad7a",
   "metadata": {},
   "outputs": [],
   "source": [
    "import numpy as np\n",
    "\n",
    "\n",
    "def score(h, test_X, test_y):\n",
    "    \"\"\"\n",
    "    Returns the percentage of correctly classified \n",
    "    examples as a decimal between 0 and 1\n",
    "    \"\"\"\n",
    "    raise NotImplemented\n",
    "\n",
    "    \n",
    "def eval_classifier(h, D):\n",
    "    test_X, test_y = D\n",
    "    return score(h, test_X, test_y)\n",
    "\n",
    "\n"
   ]
  },
  {
   "cell_type": "markdown",
   "id": "87dc777c",
   "metadata": {},
   "source": [
    "## 2) Evaluating a learning algorithm"
   ]
  },
  {
   "cell_type": "code",
   "execution_count": 4,
   "id": "5e45cc2f",
   "metadata": {},
   "outputs": [],
   "source": [
    "def eval_learning_alg(L, G, n):\n",
    "    # draw a set of n training examples (points and labels)\n",
    "    train_X, train_y = G(n)\n",
    "    # run L\n",
    "    h = L(train_X, train_y)\n",
    "    # evaluate using your classifier scoring procedure, on some new labeled data\n",
    "    score = 0\n",
    "    for i in range(10):\n",
    "        test_data = G(n) # draw new set of test data\n",
    "        score += eval_classifier(h, test_data)\n",
    "    return score/10"
   ]
  },
  {
   "cell_type": "markdown",
   "id": "2761e0af",
   "metadata": {},
   "source": [
    "In addition to the Numpy functions and features mentioned in hw 1, here are some you should be familiar with for this assignment:\n",
    "\n",
    "    np.argmax\n",
    "    np.array_split, look at the axis argument\n",
    "    np.concatenate, look at the axis argument\n",
    "    np.zeros\n",
    "    numpy.ndarray.shape\n",
    "    numpy logic functions e.g. np.array([[1, 2],[3, 4]]) == 3\n",
    "\n"
   ]
  },
  {
   "cell_type": "code",
   "execution_count": 7,
   "id": "a09f1dd5",
   "metadata": {},
   "outputs": [
    {
     "data": {
      "text/plain": [
       "3"
      ]
     },
     "execution_count": 7,
     "metadata": {},
     "output_type": "execute_result"
    }
   ],
   "source": [
    "a = np.array([1, 2, 3]).T\n",
    "\n",
    "a[np.argmax(a)]"
   ]
  },
  {
   "cell_type": "code",
   "execution_count": 30,
   "id": "110b3602",
   "metadata": {},
   "outputs": [
    {
     "data": {
      "text/plain": [
       "([array([1, 2]), array([3, 4])],\n",
       " [array([[4, 5, 6, 7]]), array([[1, 2, 3, 4]])])"
      ]
     },
     "execution_count": 30,
     "metadata": {},
     "output_type": "execute_result"
    }
   ],
   "source": [
    "a, b = np.array([1, 2, 3, 4]), np.array([[4, 5, 6, 7], [1, 2, 3, 4]])\n",
    "np.array_split(a, 2), np.array_split(b, 2, axis=0)"
   ]
  },
  {
   "cell_type": "code",
   "execution_count": 32,
   "id": "801cd186",
   "metadata": {},
   "outputs": [
    {
     "data": {
      "text/plain": [
       "(array([[1, 2, 5, 6],\n",
       "        [3, 4, 7, 8]]),\n",
       " [array([[1, 2],\n",
       "         [3, 4]]),\n",
       "  array([[5, 6],\n",
       "         [7, 8]])])"
      ]
     },
     "execution_count": 32,
     "metadata": {},
     "output_type": "execute_result"
    }
   ],
   "source": [
    "c = np.array([\n",
    "    [\n",
    "        [1, 2],\n",
    "        [3, 4],\n",
    "    ],\n",
    "    [\n",
    "        [5, 6],\n",
    "        [7, 8],\n",
    "    ],\n",
    "])\n",
    "np.concatenate(c, axis=1), np.split(np.concatenate(c), 2, axis=0)"
   ]
  },
  {
   "cell_type": "code",
   "execution_count": 33,
   "id": "5a49466a",
   "metadata": {},
   "outputs": [
    {
     "data": {
      "text/plain": [
       "array([[0., 0., 0.],\n",
       "       [0., 0., 0.]])"
      ]
     },
     "execution_count": 33,
     "metadata": {},
     "output_type": "execute_result"
    }
   ],
   "source": [
    "np.zeros((2, 3))"
   ]
  },
  {
   "cell_type": "code",
   "execution_count": 35,
   "id": "19257f41",
   "metadata": {},
   "outputs": [
    {
     "data": {
      "text/plain": [
       "(array([[False, False],\n",
       "        [ True, False]]),\n",
       " array([[False,  True],\n",
       "        [ True, False]]))"
      ]
     },
     "execution_count": 35,
     "metadata": {},
     "output_type": "execute_result"
    }
   ],
   "source": [
    "l = np.array([\n",
    "    [1, 2],\n",
    "    [3, -1],\n",
    "])\n",
    "l == 3, l>1"
   ]
  },
  {
   "cell_type": "markdown",
   "id": "1d633492",
   "metadata": {},
   "source": []
  },
  {
   "cell_type": "code",
   "execution_count": null,
   "id": "bd266f99",
   "metadata": {},
   "outputs": [],
   "source": []
  }
 ],
 "metadata": {
  "kernelspec": {
   "display_name": "Python 3 (ipykernel)",
   "language": "python",
   "name": "python3"
  },
  "language_info": {
   "codemirror_mode": {
    "name": "ipython",
    "version": 3
   },
   "file_extension": ".py",
   "mimetype": "text/x-python",
   "name": "python",
   "nbconvert_exporter": "python",
   "pygments_lexer": "ipython3",
   "version": "3.9.12"
  }
 },
 "nbformat": 4,
 "nbformat_minor": 5
}
