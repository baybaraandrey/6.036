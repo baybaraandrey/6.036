{
 "cells": [
  {
   "cell_type": "code",
   "execution_count": 1,
   "id": "715c8c6a",
   "metadata": {},
   "outputs": [],
   "source": [
    "import sys\n",
    "sys.path.append('../..')\n",
    "\n",
    "from practice import utils\n",
    "\n",
    "import numpy as np\n",
    "import matplotlib.pyplot as plt"
   ]
  },
  {
   "cell_type": "code",
   "execution_count": 77,
   "id": "a070a1ca",
   "metadata": {},
   "outputs": [
    {
     "name": "stdout",
     "output_type": "stream",
     "text": [
      "iterations 11\n"
     ]
    },
    {
     "data": {
      "image/png": "[encoded data removed]",
      "text/plain": [
       "<Figure size 432x288 with 1 Axes>"
      ]
     },
     "metadata": {
      "needs_background": "light"
     },
     "output_type": "display_data"
    }
   ],
   "source": [
    "x = np.array([\n",
    "    [0, 0],\n",
    "    [1, 0],\n",
    "    [0, 1],\n",
    "    [1, 1],\n",
    "    [2, 2],\n",
    "    [-1, -1],\n",
    "    [0.3, 0.3],\n",
    "    [1.5, -0.5]\n",
    "], dtype=float).T # 2*4\n",
    "y = np.array([-1, -1, 1, 1, 1, -1, 1, -1]) # 4d vector\n",
    "\n",
    "\n",
    "def plot_2d_hyperplane(th, th0, x, start=-2, stop=2):\n",
    "    xt = np.linspace(-2, 2, 100)\n",
    "    # th1*x + th2*y + th0 = 0\n",
    "    th1 = th[0][0]\n",
    "    th2 = th[1][0]\n",
    "    yt = -th1/th2 * xt  - th0/th2\n",
    "\n",
    "    plt.grid(True)\n",
    "    # print(x[0], x[1], x)\n",
    "    plt.scatter(x[0], x[1])\n",
    "    plt.plot(xt, yt)\n",
    "\n",
    "\n",
    "def perceptron(x: np.array, y: np.array, t: int) -> tuple[np.array]:\n",
    "    \"\"\"\n",
    "    Perceptron learning algorithm.\n",
    "    returns tuple of th and th0.\n",
    "    \"\"\"\n",
    "    th = utils.rv([0, 0]) # 2*1\n",
    "    th0 = 0 # 1*1\n",
    "    k = 0\n",
    "    for i in range(t):\n",
    "        for j in range(x.shape[1]):\n",
    "            yj = y[j]\n",
    "            xj = x[:, j:j+1]\n",
    "            r = yj * (np.dot(th.T, xj) + th0)  \n",
    "            if r <= 0:\n",
    "                k+=1\n",
    "                th = th + yj * xj\n",
    "                th0 = th0 + yj\n",
    "        # plot_2d_hyperplane(th, th0, x)\n",
    "    print('iterations', k)\n",
    "    return th, th0\n",
    "\n",
    "th, th0 = perceptron(x, y, 25)\n",
    "plot_2d_hyperplane(th, th0, x)"
   ]
  },
  {
   "cell_type": "code",
   "execution_count": 74,
   "id": "deff2b85",
   "metadata": {},
   "outputs": [
    {
     "name": "stdout",
     "output_type": "stream",
     "text": [
      "[[ True  True  True  True  True  True  True  True]]\n"
     ]
    },
    {
     "data": {
      "text/plain": [
       "(array([[0.9],\n",
       "        [2.9]]),\n",
       " -1)"
      ]
     },
     "execution_count": 74,
     "metadata": {},
     "output_type": "execute_result"
    }
   ],
   "source": [
    "utils.positive(x, th, th0)\n",
    "print(utils.score(x, y, th, th0))\n",
    "th, th0"
   ]
  },
  {
   "cell_type": "code",
   "execution_count": 75,
   "id": "42a1c8b4",
   "metadata": {},
   "outputs": [
    {
     "data": {
      "text/plain": [
       "array([[-1.  , -0.1 ,  1.9 ,  2.8 ,  6.6 , -4.8 ,  0.14, -1.1 ]])"
      ]
     },
     "execution_count": 75,
     "metadata": {},
     "output_type": "execute_result"
    }
   ],
   "source": [
    "th.T.dot(x) + th0"
   ]
  },
  {
   "cell_type": "code",
   "execution_count": null,
   "id": "337f163c",
   "metadata": {},
   "outputs": [],
   "source": []
  },
  {
   "cell_type": "code",
   "execution_count": null,
   "id": "0d2cc7d3",
   "metadata": {},
   "outputs": [],
   "source": []
  }
 ],
 "metadata": {
  "kernelspec": {
   "display_name": "Python 3 (ipykernel)",
   "language": "python",
   "name": "python3"
  },
  "language_info": {
   "codemirror_mode": {
    "name": "ipython",
    "version": 3
   },
   "file_extension": ".py",
   "mimetype": "text/x-python",
   "name": "python",
   "nbconvert_exporter": "python",
   "pygments_lexer": "ipython3",
   "version": "3.9.12"
  }
 },
 "nbformat": 4,
 "nbformat_minor": 5
}
