{
 "cells": [
  {
   "cell_type": "code",
   "execution_count": 28,
   "id": "1627daca",
   "metadata": {},
   "outputs": [],
   "source": [
    "import sys\n",
    "sys.path.append('../..')\n",
    "\n",
    "from practice import utils\n",
    "\n",
    "import numpy as np\n",
    "import matplotlib.pyplot as plt\n"
   ]
  },
  {
   "cell_type": "code",
   "execution_count": 29,
   "id": "9527db63",
   "metadata": {},
   "outputs": [],
   "source": [
    "data = np.array([\n",
    "    [1, 1],\n",
    "    [1, 0],\n",
    "    [0, 1],\n",
    "    [0, 0],\n",
    "]).T\n",
    "labels = np.array([-1, 1, 1, -1])"
   ]
  },
  {
   "cell_type": "code",
   "execution_count": 30,
   "id": "63323759",
   "metadata": {},
   "outputs": [
    {
     "data": {
      "image/png": "[encoded data removed]",
      "text/plain": [
       "<Figure size 432x288 with 1 Axes>"
      ]
     },
     "metadata": {
      "needs_background": "light"
     },
     "output_type": "display_data"
    }
   ],
   "source": [
    "fig, axes = plt.subplots()\n",
    "axes.grid(True)\n",
    "axes.scatter(data.T[:, 0], data.T[:, 1])\n",
    "for i, label in enumerate(labels):\n",
    "    axes.annotate('+' if label==1 else '-', (data.T[i][0], data.T[i][1] + 0.03))\n"
   ]
  },
  {
   "cell_type": "code",
   "execution_count": 48,
   "id": "97e99936",
   "metadata": {},
   "outputs": [
    {
     "data": {
      "text/plain": [
       "array([[ True,  True,  True,  True]])"
      ]
     },
     "execution_count": 48,
     "metadata": {},
     "output_type": "execute_result"
    }
   ],
   "source": [
    "def feature_transform(data):\n",
    "    A = np.array([\n",
    "        [1, 0],\n",
    "        [0, 1],\n",
    "        [-1, 0],\n",
    "        [0, -1],\n",
    "        [-1, 0]\n",
    "    ])\n",
    "    n = data.shape[1]\n",
    "    l = []\n",
    "    for i in range(n):\n",
    "        x = data[:, i].reshape((2, 1))\n",
    "        A[2][0] = x[0][0]\n",
    "        A[3][1] = x[1][0]\n",
    "        A[4][0] = x[1][0]\n",
    "        l.append(A.dot(x))\n",
    "\n",
    "    return np.concatenate(l, axis=1)\n",
    "\n",
    "new_data = feature_transform(data)\n",
    "\n",
    "th, th0 = utils.perceptron(new_data, labels)\n",
    "utils.score(new_data, labels, th, th0)\n"
   ]
  },
  {
   "cell_type": "code",
   "execution_count": null,
   "id": "634ea680",
   "metadata": {},
   "outputs": [],
   "source": []
  }
 ],
 "metadata": {
  "kernelspec": {
   "display_name": "Python 3 (ipykernel)",
   "language": "python",
   "name": "python3"
  },
  "language_info": {
   "codemirror_mode": {
    "name": "ipython",
    "version": 3
   },
   "file_extension": ".py",
   "mimetype": "text/x-python",
   "name": "python",
   "nbconvert_exporter": "python",
   "pygments_lexer": "ipython3",
   "version": "3.9.12"
  }
 },
 "nbformat": 4,
 "nbformat_minor": 5
}
