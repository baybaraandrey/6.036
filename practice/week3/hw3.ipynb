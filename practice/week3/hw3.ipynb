{
 "cells": [
  {
   "cell_type": "code",
   "execution_count": 1,
   "id": "cf2219fd",
   "metadata": {},
   "outputs": [],
   "source": [
    "import sys\n",
    "sys.path.append('../..')\n",
    "\n",
    "from practice import utils\n",
    "\n",
    "import numpy as np\n",
    "import pandas as pd\n",
    "import matplotlib.pyplot as plt\n"
   ]
  },
  {
   "cell_type": "code",
   "execution_count": 2,
   "id": "e87ef327",
   "metadata": {},
   "outputs": [],
   "source": [
    "data = np.array([\n",
    "    [200, 800, 200, 800],\n",
    "    [0.2,  0.2,  0.8,  0.8],\n",
    "    [1.0,  1.0,  1.0,  1.0],\n",
    "])\n",
    "labels = np.array([[-1, -1, 1, 1]])\n",
    "\n",
    "\n",
    "th = np.array([[0, 1, -0.5]])\n"
   ]
  },
  {
   "cell_type": "code",
   "execution_count": 15,
   "id": "2a7ecb73",
   "metadata": {},
   "outputs": [
    {
     "ename": "KeyboardInterrupt",
     "evalue": "",
     "output_type": "error",
     "traceback": [
      "\u001b[0;31m---------------------------------------------------------------------------\u001b[0m",
      "\u001b[0;31mKeyboardInterrupt\u001b[0m                         Traceback (most recent call last)",
      "Input \u001b[0;32mIn [15]\u001b[0m, in \u001b[0;36m<cell line: 4>\u001b[0;34m()\u001b[0m\n\u001b[1;32m      1\u001b[0m \u001b[38;5;28;01mdef\u001b[39;00m \u001b[38;5;21mmargin\u001b[39m(data, labels, th):\n\u001b[1;32m      2\u001b[0m     \u001b[38;5;28;01mreturn\u001b[39;00m th\u001b[38;5;241m.\u001b[39mdot(data)[\u001b[38;5;241m0\u001b[39m] \u001b[38;5;241m*\u001b[39m labels[\u001b[38;5;241m0\u001b[39m] \u001b[38;5;241m/\u001b[39m np\u001b[38;5;241m.\u001b[39mlinalg\u001b[38;5;241m.\u001b[39mnorm(th[\u001b[38;5;241m0\u001b[39m])\n\u001b[0;32m----> 4\u001b[0m \u001b[43mutils\u001b[49m\u001b[38;5;241;43m.\u001b[39;49m\u001b[43mperceptron_through_the_origin\u001b[49m\u001b[43m(\u001b[49m\u001b[43mdata\u001b[49m\u001b[43m,\u001b[49m\u001b[43m \u001b[49m\u001b[43mlabels\u001b[49m\u001b[43m,\u001b[49m\u001b[43m \u001b[49m\u001b[43m{\u001b[49m\u001b[38;5;124;43m'\u001b[39;49m\u001b[38;5;124;43mT\u001b[39;49m\u001b[38;5;124;43m'\u001b[39;49m\u001b[43m:\u001b[49m\u001b[43m \u001b[49m\u001b[38;5;241;43m4500000\u001b[39;49m\u001b[43m}\u001b[49m\u001b[43m)\u001b[49m\n",
      "File \u001b[0;32m~/study/ml/mit/practice/week3/../../practice/utils.py:99\u001b[0m, in \u001b[0;36mperceptron_through_the_origin\u001b[0;34m(data, labels, params, hook)\u001b[0m\n\u001b[1;32m     97\u001b[0m x \u001b[38;5;241m=\u001b[39m data[:, i:i\u001b[38;5;241m+\u001b[39m\u001b[38;5;241m1\u001b[39m]\n\u001b[1;32m     98\u001b[0m y \u001b[38;5;241m=\u001b[39m labels[i]\n\u001b[0;32m---> 99\u001b[0m \u001b[38;5;28;01mif\u001b[39;00m \u001b[43my\u001b[49m\u001b[38;5;241;43m*\u001b[39;49m\u001b[43mnp\u001b[49m\u001b[38;5;241;43m.\u001b[39;49m\u001b[43msum\u001b[49m\u001b[43m(\u001b[49m\u001b[43mth\u001b[49m\u001b[38;5;241;43m.\u001b[39;49m\u001b[43mT\u001b[49m\u001b[38;5;241;43m.\u001b[39;49m\u001b[43mdot\u001b[49m\u001b[43m(\u001b[49m\u001b[43mx\u001b[49m\u001b[43m)\u001b[49m\u001b[43m)\u001b[49m \u001b[38;5;241m<\u001b[39m\u001b[38;5;241m=\u001b[39m \u001b[38;5;241m0\u001b[39m:\n\u001b[1;32m    100\u001b[0m     k\u001b[38;5;241m+\u001b[39m\u001b[38;5;241m=\u001b[39m\u001b[38;5;241m1\u001b[39m\n\u001b[1;32m    101\u001b[0m     th \u001b[38;5;241m=\u001b[39m th \u001b[38;5;241m+\u001b[39m x\u001b[38;5;241m*\u001b[39my\n",
      "\u001b[0;31mKeyboardInterrupt\u001b[0m: "
     ]
    }
   ],
   "source": [
    "def margin(data, labels, th):\n",
    "    return th.dot(data)[0] * labels[0] / np.linalg.norm(th[0])\n",
    "\n",
    "utils.perceptron_through_the_origin(data, labels, {'T': 4500000})"
   ]
  },
  {
   "cell_type": "code",
   "execution_count": 4,
   "id": "e1a7808a",
   "metadata": {},
   "outputs": [
    {
     "data": {
      "text/plain": [
       "array([ 0.26832816,  0.26832816, -0.26832816, -0.26832816])"
      ]
     },
     "execution_count": 4,
     "metadata": {},
     "output_type": "execute_result"
    }
   ],
   "source": [
    "margin(data, labels, th)"
   ]
  },
  {
   "cell_type": "code",
   "execution_count": 5,
   "id": "9695e4b5",
   "metadata": {},
   "outputs": [
    {
     "data": {
      "text/plain": [
       "800.0010249993434"
      ]
     },
     "execution_count": 5,
     "metadata": {},
     "output_type": "execute_result"
    }
   ],
   "source": [
    "np.linalg.norm(data[:, 3].T)"
   ]
  },
  {
   "cell_type": "code",
   "execution_count": 6,
   "id": "9a532a8a",
   "metadata": {},
   "outputs": [],
   "source": [
    "k = (800.001/0.268)**2\n"
   ]
  },
  {
   "cell_type": "code",
   "execution_count": 7,
   "id": "49b4494a",
   "metadata": {},
   "outputs": [
    {
     "data": {
      "text/plain": [
       "8910692.80464747"
      ]
     },
     "execution_count": 7,
     "metadata": {},
     "output_type": "execute_result"
    }
   ],
   "source": [
    "k"
   ]
  },
  {
   "cell_type": "code",
   "execution_count": 17,
   "id": "a52b3c2e",
   "metadata": {},
   "outputs": [
    {
     "name": "stdout",
     "output_type": "stream",
     "text": [
      "errors: 666696\n"
     ]
    },
    {
     "data": {
      "text/plain": [
       "array([[-2.000000e-01],\n",
       "       [ 2.000068e+02],\n",
       "       [-4.000000e-03]])"
      ]
     },
     "execution_count": 17,
     "metadata": {},
     "output_type": "execute_result"
    }
   ],
   "source": [
    "utils.perceptron_through_the_origin(data*0.001, labels, {'T': 666696})"
   ]
  },
  {
   "cell_type": "code",
   "execution_count": null,
   "id": "e245c3f8",
   "metadata": {},
   "outputs": [],
   "source": []
  }
 ],
 "metadata": {
  "kernelspec": {
   "display_name": "Python 3 (ipykernel)",
   "language": "python",
   "name": "python3"
  },
  "language_info": {
   "codemirror_mode": {
    "name": "ipython",
    "version": 3
   },
   "file_extension": ".py",
   "mimetype": "text/x-python",
   "name": "python",
   "nbconvert_exporter": "python",
   "pygments_lexer": "ipython3",
   "version": "3.9.12"
  }
 },
 "nbformat": 4,
 "nbformat_minor": 5
}
